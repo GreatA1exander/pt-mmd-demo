{
 "cells": [
  {
   "cell_type": "markdown",
   "metadata": {},
   "source": [
    "# Wasserstein GAN in Pytorch using LSUN Dataset"
   ]
  },
  {
   "cell_type": "code",
   "execution_count": null,
   "metadata": {
    "collapsed": true
   },
   "outputs": [],
   "source": [
    "%matplotlib inline\n",
    "import importlib"
   ]
  },
  {
   "cell_type": "code",
   "execution_count": null,
   "metadata": {
    "collapsed": true
   },
   "outputs": [],
   "source": [
    "import torch_utils; importlib.reload(torch_utils)\n",
    "from torch_utils import *"
   ]
  },
  {
   "cell_type": "code",
   "execution_count": null,
   "metadata": {
    "collapsed": true
   },
   "outputs": [],
   "source": [
    "import os, random"
   ]
  },
  {
   "cell_type": "code",
   "execution_count": null,
   "metadata": {
    "collapsed": true
   },
   "outputs": [],
   "source": [
    "import matplotlib.pyplot as plt\n",
    "import numpy as np"
   ]
  },
  {
   "cell_type": "code",
   "execution_count": null,
   "metadata": {
    "collapsed": true
   },
   "outputs": [],
   "source": [
    "bs, sz, nz = 1000, 64, 100 # nz is the size of the latent z vector"
   ]
  },
  {
   "cell_type": "code",
   "execution_count": null,
   "metadata": {
    "collapsed": true
   },
   "outputs": [],
   "source": [
    "# Fix seed\n",
    "manual_seed = 5164#random.randint(1, 10000)\n",
    "print(manual_seed)\n",
    "random.seed(manual_seed)\n",
    "torch.manual_seed(manual_seed)"
   ]
  },
  {
   "cell_type": "code",
   "execution_count": null,
   "metadata": {
    "collapsed": true
   },
   "outputs": [],
   "source": [
    "cudnn.benchmark = True"
   ]
  },
  {
   "cell_type": "code",
   "execution_count": null,
   "metadata": {
    "collapsed": true
   },
   "outputs": [],
   "source": [
    "def show(img, fs=(6,6)):\n",
    "    plt.figure(figsize=fs)\n",
    "    plt.imshow(np.transpose((img / 2 + 0.5).clamp(0, 1).numpy(), (1, 2, 0)), interpolation='nearest')"
   ]
  },
  {
   "cell_type": "markdown",
   "metadata": {},
   "source": [
    "## Create model"
   ]
  },
  {
   "cell_type": "markdown",
   "metadata": {},
   "source": [
    "The CNN definitions are a little big for a notebook, so we import them."
   ]
  },
  {
   "cell_type": "code",
   "execution_count": null,
   "metadata": {
    "collapsed": true
   },
   "outputs": [],
   "source": [
    "import dcgan; importlib.reload(dcgan)\n",
    "from dcgan import DCGAN_D, DCGAN_G"
   ]
  },
  {
   "cell_type": "markdown",
   "metadata": {},
   "source": [
    "Pytorch uses `module.apply()` for picking an initializer."
   ]
  },
  {
   "cell_type": "code",
   "execution_count": null,
   "metadata": {
    "collapsed": true
   },
   "outputs": [],
   "source": [
    "def weights_init(m):\n",
    "    if isinstance(m, (nn.Conv2d, nn.ConvTranspose2d)):\n",
    "        m.weight.data.normal_(0.0, 0.02)\n",
    "    elif isinstance(m, nn.BatchNorm2d):\n",
    "        m.weight.data.normal_(1.0, 0.02)\n",
    "        m.bias.data.fill_(0)"
   ]
  },
  {
   "cell_type": "code",
   "execution_count": null,
   "metadata": {
    "collapsed": true
   },
   "outputs": [],
   "source": [
    "# nc is input image channels = 3\n",
    "# ngf is number of generator filter = 64\n",
    "# ngpu is number of GPUs to use = 1\n",
    "# n_extra_layers is number of extra layers on gen and disc = 1\n",
    "netG = DCGAN_G(sz, nz, 3, 64, 1, 1).cuda()\n",
    "netG.apply(weights_init)"
   ]
  },
  {
   "cell_type": "code",
   "execution_count": null,
   "metadata": {
    "collapsed": true
   },
   "outputs": [],
   "source": [
    "netD = DCGAN_D(sz, 3, 64, 1, 1).cuda()\n",
    "netD.apply(weights_init)"
   ]
  },
  {
   "cell_type": "markdown",
   "metadata": {},
   "source": [
    "Just some shortcuts to create tensors and variables."
   ]
  },
  {
   "cell_type": "markdown",
   "metadata": {},
   "source": [
    "### Continue Training (custom codes)"
   ]
  },
  {
   "cell_type": "code",
   "execution_count": null,
   "metadata": {
    "collapsed": true
   },
   "outputs": [],
   "source": [
    "netG_checkpoint = 'netG_epoch_1.pth'\n",
    "netD_checkpoint = 'netD_epoch_1.pth'\n",
    "\n",
    "# set path to netG_checkpoint (to continue training)\n",
    "netG_model = netG_checkpoint\n",
    "netD_model = netD_checkpoint\n",
    "\n",
    "if netG_model != '':\n",
    "    sd = torch.load(netG_model)\n",
    "    new_sd = {}\n",
    "    for key,value in sd.items():\n",
    "        key = key.split('.')\n",
    "        #print(key[0]+\".\"+\"\".join(key[1:-1])+\".\"+key[-1])\n",
    "        new_sd[key[0]+\".\"+\"\".join(key[1:-1])+\".\"+key[-1]] = value\n",
    "    netG.load_state_dict(new_sd)\n",
    "    print('continue training generator/actor')\n",
    "\n",
    "if netD_model != '':\n",
    "    sd = torch.load(netD_model)\n",
    "    new_sd = {}\n",
    "    for key,value in sd.items():\n",
    "        key = key.split('.')\n",
    "        #print(key[0]+\".\"+\"\".join(key[1:-1])+\".\"+key[-1])\n",
    "        new_sd[key[0]+\".\"+\"\".join(key[1:-1])+\".\"+key[-1]] = value\n",
    "    netD.load_state_dict(new_sd)\n",
    "    #netD.load_state_dict(torch.load(netD_model))\n",
    "    print('continue training discriminator/critic')"
   ]
  },
  {
   "cell_type": "code",
   "execution_count": null,
   "metadata": {
    "collapsed": true
   },
   "outputs": [],
   "source": [
    "from torch import FloatTensor as FT"
   ]
  },
  {
   "cell_type": "code",
   "execution_count": null,
   "metadata": {
    "collapsed": true
   },
   "outputs": [],
   "source": [
    "def Var(*params):\n",
    "    return Variable( FT(*params).cuda() )"
   ]
  },
  {
   "cell_type": "code",
   "execution_count": null,
   "metadata": {
    "collapsed": true
   },
   "outputs": [],
   "source": [
    "def create_noise(b): \n",
    "    return Variable( FT(b, nz, 1, 1).cuda().normal_(0, 1) )"
   ]
  },
  {
   "cell_type": "code",
   "execution_count": null,
   "metadata": {
    "collapsed": true
   },
   "outputs": [],
   "source": [
    "# Input placeholder\n",
    "input = Var(bs, 3, sz, nz)\n",
    "\n",
    "# Fixed noise used just for visualizing images when done\n",
    "fixed_noise = create_noise(bs)\n",
    "\n",
    "# The numbers 0 and -1\n",
    "one = torch.FloatTensor([1]).cuda()\n",
    "mone = one * -1"
   ]
  },
  {
   "cell_type": "markdown",
   "metadata": {},
   "source": [
    "## Save"
   ]
  },
  {
   "cell_type": "code",
   "execution_count": null,
   "metadata": {
    "collapsed": true
   },
   "outputs": [],
   "source": [
    "fake = netG(fixed_noise).data.cpu()"
   ]
  },
  {
   "cell_type": "code",
   "execution_count": null,
   "metadata": {
    "collapsed": true
   },
   "outputs": [],
   "source": [
    "npfake = fake.numpy()"
   ]
  },
  {
   "cell_type": "code",
   "execution_count": null,
   "metadata": {
    "collapsed": true
   },
   "outputs": [],
   "source": [
    "import numpy as np"
   ]
  },
  {
   "cell_type": "code",
   "execution_count": null,
   "metadata": {
    "collapsed": true
   },
   "outputs": [],
   "source": [
    "np.reshape(npfake,(1000,-1)).tofile('wgan_lsun_gen.bin')"
   ]
  }
 ],
 "metadata": {
  "kernelspec": {
   "display_name": "Python [conda env:py36]",
   "language": "python",
   "name": "conda-env-py36-py"
  },
  "language_info": {
   "codemirror_mode": {
    "name": "ipython",
    "version": 3
   },
   "file_extension": ".py",
   "mimetype": "text/x-python",
   "name": "python",
   "nbconvert_exporter": "python",
   "pygments_lexer": "ipython3",
   "version": "3.6.4"
  }
 },
 "nbformat": 4,
 "nbformat_minor": 2
}

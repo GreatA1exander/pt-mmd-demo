{
 "cells": [
  {
   "cell_type": "code",
   "execution_count": null,
   "metadata": {
    "collapsed": true
   },
   "outputs": [],
   "source": [
    "#Relevant libraries: tensorflow 1.14, opencv, matplotlib, numpy\n",
    "\n",
    "import pickle\n",
    "import numpy as np\n",
    "import tensorflow as tf\n",
    "import matplotlib.pyplot as plt\n",
    "import cv2 as cv\n",
    "\n",
    "# Initialize TensorFlow session.\n",
    "tf.InteractiveSession()\n",
    "\n",
    "# Import official LSUN-Bedroom networks.\n",
    "with open('karras2018iclr-lsun-bedroom-256x256.pkl', 'rb') as file:\n",
    "    G, D, Gs = pickle.load(file)\n",
    "\n",
    "all_images = []\n",
    "for i in range(100):\n",
    "    print(i,end=' ')\n",
    "    # Generate latent vectors.\n",
    "    latents = np.random.RandomState(1000).randn(1000, *Gs.input_shapes[0][1:]) # 1000 random latents\n",
    "    latents = latents[i*10:(i+1)*10]\n",
    "\n",
    "    # Generate dummy labels (not used by the official networks).\n",
    "    labels = np.zeros([latents.shape[0]] + Gs.input_shapes[1][1:])\n",
    "\n",
    "    # Run the generator to produce a set of images.\n",
    "    images = Gs.run(latents, labels)\n",
    "    for image in images:\n",
    "        local_image = image.transpose(1,2,0)\n",
    "        local_image = (local_image+1)/2\n",
    "        local_image[local_image<0] = 0\n",
    "        local_image[local_image>1] = 1\n",
    "        all_images.append(local_image)"
   ]
  },
  {
   "cell_type": "code",
   "execution_count": null,
   "metadata": {
    "collapsed": true
   },
   "outputs": [],
   "source": [
    "plt.imshow(all_images[8])"
   ]
  },
  {
   "cell_type": "code",
   "execution_count": null,
   "metadata": {
    "collapsed": true
   },
   "outputs": [],
   "source": [
    "np.reshape(np.array(all_images),(1000,-1)).tofile('pgan_lsun_gen.bin')"
   ]
  },
  {
   "cell_type": "code",
   "execution_count": null,
   "metadata": {
    "collapsed": true
   },
   "outputs": [],
   "source": [
    "np.array(all_images).shape"
   ]
  }
 ],
 "metadata": {
  "kernelspec": {
   "display_name": "Python [conda env:py36]",
   "language": "python",
   "name": "conda-env-py36-py"
  },
  "language_info": {
   "codemirror_mode": {
    "name": "ipython",
    "version": 3
   },
   "file_extension": ".py",
   "mimetype": "text/x-python",
   "name": "python",
   "nbconvert_exporter": "python",
   "pygments_lexer": "ipython3",
   "version": "3.6.4"
  }
 },
 "nbformat": 4,
 "nbformat_minor": 2
}
